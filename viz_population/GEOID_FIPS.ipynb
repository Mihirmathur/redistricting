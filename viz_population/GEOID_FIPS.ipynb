{
 "cells": [
  {
   "cell_type": "code",
   "execution_count": 1,
   "metadata": {},
   "outputs": [
    {
     "name": "stdout",
     "output_type": "stream",
     "text": [
      "         GEOID10  DEM  REP\n",
      "0  0600140010010   21    2\n",
      "1  0600140010010    1    0\n",
      "2  0600140010010    0    1\n",
      "3  0600140010010    2    1\n",
      "4  0600140010010    3    0\n"
     ]
    }
   ],
   "source": [
    "import pandas as pd\n",
    "\n",
    "df = pd.read_csv('../statewide_pollvote_stats_by_block.csv')\n",
    "df = df[['GEOID10', 'DEM', 'REP']]\n",
    "df['GEOID10'] = df['GEOID10'].apply(lambda x: '0' + str(x)[:-4])\n",
    "print(df.head(5))"
   ]
  },
  {
   "cell_type": "code",
   "execution_count": 2,
   "metadata": {},
   "outputs": [
    {
     "name": "stdout",
     "output_type": "stream",
     "text": [
      "               DEM  REP\n",
      "FIPS                   \n",
      "0600140010010  189   50\n",
      "0600140020010  102   11\n",
      "0600140020020   92    5\n",
      "0600140030010  116    9\n",
      "0600140030020  110    7\n"
     ]
    }
   ],
   "source": [
    "df = df.groupby(['GEOID10']).sum()\n",
    "df.index.names = ['FIPS']\n",
    "df = df.drop(df.index[[0]])\n",
    "print(df.head(5))"
   ]
  },
  {
   "cell_type": "code",
   "execution_count": null,
   "metadata": {},
   "outputs": [],
   "source": []
  }
 ],
 "metadata": {
  "kernelspec": {
   "display_name": "Python 3",
   "language": "python",
   "name": "python3"
  },
  "language_info": {
   "codemirror_mode": {
    "name": "ipython",
    "version": 3
   },
   "file_extension": ".py",
   "mimetype": "text/x-python",
   "name": "python",
   "nbconvert_exporter": "python",
   "pygments_lexer": "ipython3",
   "version": "3.7.3"
  }
 },
 "nbformat": 4,
 "nbformat_minor": 2
}
